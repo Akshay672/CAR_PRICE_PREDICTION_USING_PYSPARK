{
 "cells": [
  {
   "cell_type": "code",
   "execution_count": 1,
   "id": "9d8d2443",
   "metadata": {},
   "outputs": [],
   "source": [
    "#lirbaires will be imported where ever necessary"
   ]
  },
  {
   "cell_type": "code",
   "execution_count": 2,
   "id": "db56bb2c",
   "metadata": {},
   "outputs": [],
   "source": [
    "from pyspark.sql import SparkSession"
   ]
  },
  {
   "cell_type": "code",
   "execution_count": 3,
   "id": "a682ef8e",
   "metadata": {},
   "outputs": [],
   "source": [
    "#Datast link : https://www.kaggle.com/hellbuoy/car-price-prediction"
   ]
  },
  {
   "cell_type": "code",
   "execution_count": 4,
   "id": "f7062a32",
   "metadata": {},
   "outputs": [],
   "source": [
    "#creating basic spark session\n",
    "spark = SparkSession.builder.appName(\"Car_Price_Prediction\").getOrCreate()"
   ]
  },
  {
   "cell_type": "code",
   "execution_count": 5,
   "id": "e019cd83",
   "metadata": {},
   "outputs": [],
   "source": [
    "#Reading the Dataset"
   ]
  },
  {
   "cell_type": "code",
   "execution_count": 37,
   "id": "aebb0529",
   "metadata": {},
   "outputs": [
    {
     "name": "stdout",
     "output_type": "stream",
     "text": [
      "+------+---------+-------------------+--------+----------+----------+-----------+----------+--------------+---------+---------+--------+---------+----------+----------+--------------+----------+----------+---------+------+----------------+----------+-------+-------+----------+-------+\n",
      "|car_ID|symboling|            CarName|fueltype|aspiration|doornumber|    carbody|drivewheel|enginelocation|wheelbase|carlength|carwidth|carheight|curbweight|enginetype|cylindernumber|enginesize|fuelsystem|boreratio|stroke|compressionratio|horsepower|peakrpm|citympg|highwaympg|  price|\n",
      "+------+---------+-------------------+--------+----------+----------+-----------+----------+--------------+---------+---------+--------+---------+----------+----------+--------------+----------+----------+---------+------+----------------+----------+-------+-------+----------+-------+\n",
      "|     1|        3| alfa-romero giulia|     gas|       std|       two|convertible|       rwd|         front|     88.6|    168.8|    64.1|     48.8|      2548|      dohc|          four|       130|      mpfi|     3.47|  2.68|             9.0|       111|   5000|     21|        27|13495.0|\n",
      "|     2|        3|alfa-romero stelvio|     gas|       std|       two|convertible|       rwd|         front|     88.6|    168.8|    64.1|     48.8|      2548|      dohc|          four|       130|      mpfi|     3.47|  2.68|             9.0|       111|   5000|     21|        27|16500.0|\n",
      "+------+---------+-------------------+--------+----------+----------+-----------+----------+--------------+---------+---------+--------+---------+----------+----------+--------------+----------+----------+---------+------+----------------+----------+-------+-------+----------+-------+\n",
      "only showing top 2 rows\n",
      "\n"
     ]
    }
   ],
   "source": [
    "df=spark.read.csv('D://M. Tech in Data Science & Machine Learning//Big Data Analytics//Sem_Prep//Car_Price_Prediction//CarPrice_Assignment.csv',header=True,inferSchema=True)\n",
    "df.show(2)#first 2 records"
   ]
  },
  {
   "cell_type": "code",
   "execution_count": 38,
   "id": "dc19b7cd",
   "metadata": {},
   "outputs": [
    {
     "data": {
      "text/plain": [
       "['car_ID',\n",
       " 'symboling',\n",
       " 'CarName',\n",
       " 'fueltype',\n",
       " 'aspiration',\n",
       " 'doornumber',\n",
       " 'carbody',\n",
       " 'drivewheel',\n",
       " 'enginelocation',\n",
       " 'wheelbase',\n",
       " 'carlength',\n",
       " 'carwidth',\n",
       " 'carheight',\n",
       " 'curbweight',\n",
       " 'enginetype',\n",
       " 'cylindernumber',\n",
       " 'enginesize',\n",
       " 'fuelsystem',\n",
       " 'boreratio',\n",
       " 'stroke',\n",
       " 'compressionratio',\n",
       " 'horsepower',\n",
       " 'peakrpm',\n",
       " 'citympg',\n",
       " 'highwaympg',\n",
       " 'price']"
      ]
     },
     "execution_count": 38,
     "metadata": {},
     "output_type": "execute_result"
    }
   ],
   "source": [
    "df.columns#columns in the dataset"
   ]
  },
  {
   "cell_type": "code",
   "execution_count": 39,
   "id": "94ead484",
   "metadata": {},
   "outputs": [
    {
     "name": "stdout",
     "output_type": "stream",
     "text": [
      "root\n",
      " |-- car_ID: integer (nullable = true)\n",
      " |-- symboling: integer (nullable = true)\n",
      " |-- CarName: string (nullable = true)\n",
      " |-- fueltype: string (nullable = true)\n",
      " |-- aspiration: string (nullable = true)\n",
      " |-- doornumber: string (nullable = true)\n",
      " |-- carbody: string (nullable = true)\n",
      " |-- drivewheel: string (nullable = true)\n",
      " |-- enginelocation: string (nullable = true)\n",
      " |-- wheelbase: double (nullable = true)\n",
      " |-- carlength: double (nullable = true)\n",
      " |-- carwidth: double (nullable = true)\n",
      " |-- carheight: double (nullable = true)\n",
      " |-- curbweight: integer (nullable = true)\n",
      " |-- enginetype: string (nullable = true)\n",
      " |-- cylindernumber: string (nullable = true)\n",
      " |-- enginesize: integer (nullable = true)\n",
      " |-- fuelsystem: string (nullable = true)\n",
      " |-- boreratio: double (nullable = true)\n",
      " |-- stroke: double (nullable = true)\n",
      " |-- compressionratio: double (nullable = true)\n",
      " |-- horsepower: integer (nullable = true)\n",
      " |-- peakrpm: integer (nullable = true)\n",
      " |-- citympg: integer (nullable = true)\n",
      " |-- highwaympg: integer (nullable = true)\n",
      " |-- price: double (nullable = true)\n",
      "\n"
     ]
    }
   ],
   "source": [
    "df.printSchema()"
   ]
  },
  {
   "cell_type": "code",
   "execution_count": 40,
   "id": "fee37417",
   "metadata": {},
   "outputs": [
    {
     "data": {
      "text/plain": [
       "26"
      ]
     },
     "execution_count": 40,
     "metadata": {},
     "output_type": "execute_result"
    }
   ],
   "source": [
    "len(df.columns)#checking the length of the columns"
   ]
  },
  {
   "cell_type": "code",
   "execution_count": 41,
   "id": "0065412f",
   "metadata": {},
   "outputs": [
    {
     "data": {
      "text/plain": [
       "[('car_ID', 'int'),\n",
       " ('symboling', 'int'),\n",
       " ('CarName', 'string'),\n",
       " ('fueltype', 'string'),\n",
       " ('aspiration', 'string'),\n",
       " ('doornumber', 'string'),\n",
       " ('carbody', 'string'),\n",
       " ('drivewheel', 'string'),\n",
       " ('enginelocation', 'string'),\n",
       " ('wheelbase', 'double'),\n",
       " ('carlength', 'double'),\n",
       " ('carwidth', 'double'),\n",
       " ('carheight', 'double'),\n",
       " ('curbweight', 'int'),\n",
       " ('enginetype', 'string'),\n",
       " ('cylindernumber', 'string'),\n",
       " ('enginesize', 'int'),\n",
       " ('fuelsystem', 'string'),\n",
       " ('boreratio', 'double'),\n",
       " ('stroke', 'double'),\n",
       " ('compressionratio', 'double'),\n",
       " ('horsepower', 'int'),\n",
       " ('peakrpm', 'int'),\n",
       " ('citympg', 'int'),\n",
       " ('highwaympg', 'int'),\n",
       " ('price', 'double')]"
      ]
     },
     "execution_count": 41,
     "metadata": {},
     "output_type": "execute_result"
    }
   ],
   "source": [
    "#for column name and datatypes\n",
    "df.dtypes"
   ]
  },
  {
   "cell_type": "code",
   "execution_count": 42,
   "id": "d6e2a890",
   "metadata": {},
   "outputs": [],
   "source": [
    "#checking for null values"
   ]
  },
  {
   "cell_type": "code",
   "execution_count": 43,
   "id": "0d558a40",
   "metadata": {},
   "outputs": [],
   "source": [
    "from pyspark.sql.functions import isnan, col, count, when"
   ]
  },
  {
   "cell_type": "code",
   "execution_count": 44,
   "id": "417f4696",
   "metadata": {},
   "outputs": [
    {
     "name": "stdout",
     "output_type": "stream",
     "text": [
      "+------+---------+-------+--------+----------+----------+-------+----------+--------------+---------+---------+--------+---------+----------+----------+--------------+----------+----------+---------+------+----------------+----------+-------+-------+----------+-----+\n",
      "|car_ID|symboling|CarName|fueltype|aspiration|doornumber|carbody|drivewheel|enginelocation|wheelbase|carlength|carwidth|carheight|curbweight|enginetype|cylindernumber|enginesize|fuelsystem|boreratio|stroke|compressionratio|horsepower|peakrpm|citympg|highwaympg|price|\n",
      "+------+---------+-------+--------+----------+----------+-------+----------+--------------+---------+---------+--------+---------+----------+----------+--------------+----------+----------+---------+------+----------------+----------+-------+-------+----------+-----+\n",
      "|     0|        0|      0|       0|         0|         0|      0|         0|             0|        0|        0|       0|        0|         0|         0|             0|         0|         0|        0|     0|               0|         0|      0|      0|         0|    0|\n",
      "+------+---------+-------+--------+----------+----------+-------+----------+--------------+---------+---------+--------+---------+----------+----------+--------------+----------+----------+---------+------+----------------+----------+-------+-------+----------+-----+\n",
      "\n"
     ]
    }
   ],
   "source": [
    "df.select([count(when(isnan(c) | col(c).isNull() , c)).alias(c) for c in df.columns]).show()"
   ]
  },
  {
   "cell_type": "code",
   "execution_count": 45,
   "id": "f5a420ca",
   "metadata": {},
   "outputs": [],
   "source": [
    "#There are no null values"
   ]
  },
  {
   "cell_type": "code",
   "execution_count": 46,
   "id": "6c9ab27f",
   "metadata": {},
   "outputs": [
    {
     "data": {
      "text/plain": [
       "['symboling',\n",
       " 'fueltype',\n",
       " 'aspiration',\n",
       " 'doornumber',\n",
       " 'carbody',\n",
       " 'drivewheel',\n",
       " 'enginelocation',\n",
       " 'wheelbase',\n",
       " 'carlength',\n",
       " 'carwidth',\n",
       " 'carheight',\n",
       " 'curbweight',\n",
       " 'enginetype',\n",
       " 'cylindernumber',\n",
       " 'enginesize',\n",
       " 'fuelsystem',\n",
       " 'boreratio',\n",
       " 'stroke',\n",
       " 'compressionratio',\n",
       " 'horsepower',\n",
       " 'peakrpm',\n",
       " 'citympg',\n",
       " 'highwaympg',\n",
       " 'price']"
      ]
     },
     "execution_count": 46,
     "metadata": {},
     "output_type": "execute_result"
    }
   ],
   "source": [
    "#Dropping some unwanted columns (car_ID , CarName)\n",
    "df=df.drop('CarName','car_ID')\n",
    "df.columns"
   ]
  },
  {
   "cell_type": "code",
   "execution_count": 47,
   "id": "4fc0e87c",
   "metadata": {},
   "outputs": [
    {
     "data": {
      "text/plain": [
       "['fueltype',\n",
       " 'aspiration',\n",
       " 'doornumber',\n",
       " 'carbody',\n",
       " 'drivewheel',\n",
       " 'enginelocation',\n",
       " 'enginetype',\n",
       " 'cylindernumber',\n",
       " 'fuelsystem']"
      ]
     },
     "execution_count": 47,
     "metadata": {},
     "output_type": "execute_result"
    }
   ],
   "source": [
    "#getting onlystring columns\n",
    "string_col = [c for c,t in df.dtypes if t=='string']\n",
    "string_col"
   ]
  },
  {
   "cell_type": "code",
   "execution_count": 48,
   "id": "f0f84059",
   "metadata": {},
   "outputs": [
    {
     "data": {
      "text/plain": [
       "['symboling',\n",
       " 'wheelbase',\n",
       " 'carlength',\n",
       " 'carwidth',\n",
       " 'carheight',\n",
       " 'curbweight',\n",
       " 'enginesize',\n",
       " 'boreratio',\n",
       " 'stroke',\n",
       " 'compressionratio',\n",
       " 'horsepower',\n",
       " 'peakrpm',\n",
       " 'citympg',\n",
       " 'highwaympg',\n",
       " 'price']"
      ]
     },
     "execution_count": 48,
     "metadata": {},
     "output_type": "execute_result"
    }
   ],
   "source": [
    "#getting only numeric  columns\n",
    "non_string_col = [c for c,t in df.dtypes if t!='string']\n",
    "non_string_col"
   ]
  },
  {
   "cell_type": "code",
   "execution_count": 49,
   "id": "b97c8c4f",
   "metadata": {},
   "outputs": [],
   "source": [
    "#Applying String indexer\n",
    "from pyspark.ml.feature import StringIndexer\n",
    "from pyspark.ml import Pipeline"
   ]
  },
  {
   "cell_type": "code",
   "execution_count": 50,
   "id": "4ed68664",
   "metadata": {},
   "outputs": [],
   "source": [
    "indexer = [StringIndexer(inputCol=c, outputCol=c+\"indexed\").fit(df) for c in string_col]\n",
    "pipeline = Pipeline(stages=indexer)\n",
    "df=pipeline.fit(df).transform(df)"
   ]
  },
  {
   "cell_type": "code",
   "execution_count": 51,
   "id": "3cd93059",
   "metadata": {},
   "outputs": [
    {
     "name": "stdout",
     "output_type": "stream",
     "text": [
      "+---------+---------+---------+--------+---------+----------+----------+---------+------+----------------+----------+-------+-------+----------+-------+---------------+-----------------+-----------------+--------------+-----------------+---------------------+-----------------+---------------------+-----------------+\n",
      "|symboling|wheelbase|carlength|carwidth|carheight|curbweight|enginesize|boreratio|stroke|compressionratio|horsepower|peakrpm|citympg|highwaympg|  price|fueltypeindexed|aspirationindexed|doornumberindexed|carbodyindexed|drivewheelindexed|enginelocationindexed|enginetypeindexed|cylindernumberindexed|fuelsystemindexed|\n",
      "+---------+---------+---------+--------+---------+----------+----------+---------+------+----------------+----------+-------+-------+----------+-------+---------------+-----------------+-----------------+--------------+-----------------+---------------------+-----------------+---------------------+-----------------+\n",
      "|        3|     88.6|    168.8|    64.1|     48.8|      2548|       130|     3.47|  2.68|             9.0|       111|   5000|     21|        27|13495.0|            0.0|              0.0|              1.0|           4.0|              1.0|                  0.0|              3.0|                  0.0|              0.0|\n",
      "|        3|     88.6|    168.8|    64.1|     48.8|      2548|       130|     3.47|  2.68|             9.0|       111|   5000|     21|        27|16500.0|            0.0|              0.0|              1.0|           4.0|              1.0|                  0.0|              3.0|                  0.0|              0.0|\n",
      "+---------+---------+---------+--------+---------+----------+----------+---------+------+----------------+----------+-------+-------+----------+-------+---------------+-----------------+-----------------+--------------+-----------------+---------------------+-----------------+---------------------+-----------------+\n",
      "only showing top 2 rows\n",
      "\n"
     ]
    }
   ],
   "source": [
    "df=df.drop('CarName',\n",
    " 'fueltype',\n",
    " 'aspiration',\n",
    " 'doornumber',\n",
    " 'carbody',\n",
    " 'drivewheel',\n",
    " 'enginelocation',\n",
    " 'enginetype',\n",
    " 'cylindernumber',\n",
    " 'fuelsystem')\n",
    "df.show(2)"
   ]
  },
  {
   "cell_type": "code",
   "execution_count": 52,
   "id": "02331568",
   "metadata": {},
   "outputs": [],
   "source": [
    "#applying vector indexer\n",
    "from pyspark.ml.feature import VectorAssembler"
   ]
  },
  {
   "cell_type": "code",
   "execution_count": 53,
   "id": "25d3cbda",
   "metadata": {},
   "outputs": [
    {
     "name": "stdout",
     "output_type": "stream",
     "text": [
      "+---------+---------+---------+--------+---------+----------+----------+---------+------+----------------+----------+-------+-------+----------+---------------+-----------------+-----------------+--------------+-----------------+---------------------+-----------------+---------------------+-----------------+\n",
      "|symboling|wheelbase|carlength|carwidth|carheight|curbweight|enginesize|boreratio|stroke|compressionratio|horsepower|peakrpm|citympg|highwaympg|fueltypeindexed|aspirationindexed|doornumberindexed|carbodyindexed|drivewheelindexed|enginelocationindexed|enginetypeindexed|cylindernumberindexed|fuelsystemindexed|\n",
      "+---------+---------+---------+--------+---------+----------+----------+---------+------+----------------+----------+-------+-------+----------+---------------+-----------------+-----------------+--------------+-----------------+---------------------+-----------------+---------------------+-----------------+\n",
      "|        3|     88.6|    168.8|    64.1|     48.8|      2548|       130|     3.47|  2.68|             9.0|       111|   5000|     21|        27|            0.0|              0.0|              1.0|           4.0|              1.0|                  0.0|              3.0|                  0.0|              0.0|\n",
      "|        3|     88.6|    168.8|    64.1|     48.8|      2548|       130|     3.47|  2.68|             9.0|       111|   5000|     21|        27|            0.0|              0.0|              1.0|           4.0|              1.0|                  0.0|              3.0|                  0.0|              0.0|\n",
      "|        1|     94.5|    171.2|    65.5|     52.4|      2823|       152|     2.68|  3.47|             9.0|       154|   5000|     19|        26|            0.0|              0.0|              1.0|           1.0|              1.0|                  0.0|              2.0|                  1.0|              0.0|\n",
      "|        2|     99.8|    176.6|    66.2|     54.3|      2337|       109|     3.19|   3.4|            10.0|       102|   5500|     24|        30|            0.0|              0.0|              0.0|           0.0|              0.0|                  0.0|              0.0|                  0.0|              0.0|\n",
      "|        2|     99.4|    176.6|    66.4|     54.3|      2824|       136|     3.19|   3.4|             8.0|       115|   5500|     18|        22|            0.0|              0.0|              0.0|           0.0|              2.0|                  0.0|              0.0|                  2.0|              0.0|\n",
      "|        2|     99.8|    177.3|    66.3|     53.1|      2507|       136|     3.19|   3.4|             8.5|       110|   5500|     19|        25|            0.0|              0.0|              1.0|           0.0|              0.0|                  0.0|              0.0|                  2.0|              0.0|\n",
      "|        1|    105.8|    192.7|    71.4|     55.7|      2844|       136|     3.19|   3.4|             8.5|       110|   5500|     19|        25|            0.0|              0.0|              0.0|           0.0|              0.0|                  0.0|              0.0|                  2.0|              0.0|\n",
      "|        1|    105.8|    192.7|    71.4|     55.7|      2954|       136|     3.19|   3.4|             8.5|       110|   5500|     19|        25|            0.0|              0.0|              0.0|           2.0|              0.0|                  0.0|              0.0|                  2.0|              0.0|\n",
      "|        1|    105.8|    192.7|    71.4|     55.9|      3086|       131|     3.13|   3.4|             8.3|       140|   5500|     17|        20|            0.0|              1.0|              0.0|           0.0|              0.0|                  0.0|              0.0|                  2.0|              0.0|\n",
      "|        0|     99.5|    178.2|    67.9|     52.0|      3053|       131|     3.13|   3.4|             7.0|       160|   5500|     16|        22|            0.0|              1.0|              1.0|           1.0|              2.0|                  0.0|              0.0|                  2.0|              0.0|\n",
      "|        2|    101.2|    176.8|    64.8|     54.3|      2395|       108|      3.5|   2.8|             8.8|       101|   5800|     23|        29|            0.0|              0.0|              1.0|           0.0|              1.0|                  0.0|              0.0|                  0.0|              0.0|\n",
      "|        0|    101.2|    176.8|    64.8|     54.3|      2395|       108|      3.5|   2.8|             8.8|       101|   5800|     23|        29|            0.0|              0.0|              0.0|           0.0|              1.0|                  0.0|              0.0|                  0.0|              0.0|\n",
      "|        0|    101.2|    176.8|    64.8|     54.3|      2710|       164|     3.31|  3.19|             9.0|       121|   4250|     21|        28|            0.0|              0.0|              1.0|           0.0|              1.0|                  0.0|              0.0|                  1.0|              0.0|\n",
      "|        0|    101.2|    176.8|    64.8|     54.3|      2765|       164|     3.31|  3.19|             9.0|       121|   4250|     21|        28|            0.0|              0.0|              0.0|           0.0|              1.0|                  0.0|              0.0|                  1.0|              0.0|\n",
      "|        1|    103.5|    189.0|    66.9|     55.7|      3055|       164|     3.31|  3.19|             9.0|       121|   4250|     20|        25|            0.0|              0.0|              0.0|           0.0|              1.0|                  0.0|              0.0|                  1.0|              0.0|\n",
      "|        0|    103.5|    189.0|    66.9|     55.7|      3230|       209|     3.62|  3.39|             8.0|       182|   5400|     16|        22|            0.0|              0.0|              0.0|           0.0|              1.0|                  0.0|              0.0|                  1.0|              0.0|\n",
      "|        0|    103.5|    193.8|    67.9|     53.7|      3380|       209|     3.62|  3.39|             8.0|       182|   5400|     16|        22|            0.0|              0.0|              1.0|           0.0|              1.0|                  0.0|              0.0|                  1.0|              0.0|\n",
      "|        0|    110.0|    197.0|    70.9|     56.3|      3505|       209|     3.62|  3.39|             8.0|       182|   5400|     15|        20|            0.0|              0.0|              0.0|           0.0|              1.0|                  0.0|              0.0|                  1.0|              0.0|\n",
      "|        2|     88.4|    141.1|    60.3|     53.2|      1488|        61|     2.91|  3.03|             9.5|        48|   5100|     47|        53|            0.0|              0.0|              1.0|           1.0|              0.0|                  0.0|              4.0|                  5.0|              1.0|\n",
      "|        1|     94.5|    155.9|    63.6|     52.0|      1874|        90|     3.03|  3.11|             9.6|        70|   5400|     38|        43|            0.0|              0.0|              1.0|           1.0|              0.0|                  0.0|              0.0|                  0.0|              1.0|\n",
      "+---------+---------+---------+--------+---------+----------+----------+---------+------+----------------+----------+-------+-------+----------+---------------+-----------------+-----------------+--------------+-----------------+---------------------+-----------------+---------------------+-----------------+\n",
      "only showing top 20 rows\n",
      "\n"
     ]
    }
   ],
   "source": [
    "df1=df.drop('price')\n",
    "df1.show()"
   ]
  },
  {
   "cell_type": "code",
   "execution_count": 54,
   "id": "bb2b1d01",
   "metadata": {},
   "outputs": [
    {
     "name": "stdout",
     "output_type": "stream",
     "text": [
      "root\n",
      " |-- symboling: integer (nullable = true)\n",
      " |-- wheelbase: double (nullable = true)\n",
      " |-- carlength: double (nullable = true)\n",
      " |-- carwidth: double (nullable = true)\n",
      " |-- carheight: double (nullable = true)\n",
      " |-- curbweight: integer (nullable = true)\n",
      " |-- enginesize: integer (nullable = true)\n",
      " |-- boreratio: double (nullable = true)\n",
      " |-- stroke: double (nullable = true)\n",
      " |-- compressionratio: double (nullable = true)\n",
      " |-- horsepower: integer (nullable = true)\n",
      " |-- peakrpm: integer (nullable = true)\n",
      " |-- citympg: integer (nullable = true)\n",
      " |-- highwaympg: integer (nullable = true)\n",
      " |-- fueltypeindexed: double (nullable = false)\n",
      " |-- aspirationindexed: double (nullable = false)\n",
      " |-- doornumberindexed: double (nullable = false)\n",
      " |-- carbodyindexed: double (nullable = false)\n",
      " |-- drivewheelindexed: double (nullable = false)\n",
      " |-- enginelocationindexed: double (nullable = false)\n",
      " |-- enginetypeindexed: double (nullable = false)\n",
      " |-- cylindernumberindexed: double (nullable = false)\n",
      " |-- fuelsystemindexed: double (nullable = false)\n",
      "\n"
     ]
    }
   ],
   "source": [
    "df1.printSchema()"
   ]
  },
  {
   "cell_type": "code",
   "execution_count": 55,
   "id": "2cad60de",
   "metadata": {},
   "outputs": [],
   "source": [
    "features=VectorAssembler(inputCols=df1.columns[:], outputCol='feature')\n",
    "feature_vector=features.transform(df)"
   ]
  },
  {
   "cell_type": "code",
   "execution_count": 56,
   "id": "152f3f17",
   "metadata": {},
   "outputs": [
    {
     "name": "stdout",
     "output_type": "stream",
     "text": [
      "+---------+---------+---------+--------+---------+----------+----------+---------+------+----------------+----------+-------+-------+----------+---------+---------------+-----------------+-----------------+--------------+-----------------+---------------------+-----------------+---------------------+-----------------+--------------------+\n",
      "|symboling|wheelbase|carlength|carwidth|carheight|curbweight|enginesize|boreratio|stroke|compressionratio|horsepower|peakrpm|citympg|highwaympg|    price|fueltypeindexed|aspirationindexed|doornumberindexed|carbodyindexed|drivewheelindexed|enginelocationindexed|enginetypeindexed|cylindernumberindexed|fuelsystemindexed|             feature|\n",
      "+---------+---------+---------+--------+---------+----------+----------+---------+------+----------------+----------+-------+-------+----------+---------+---------------+-----------------+-----------------+--------------+-----------------+---------------------+-----------------+---------------------+-----------------+--------------------+\n",
      "|        3|     88.6|    168.8|    64.1|     48.8|      2548|       130|     3.47|  2.68|             9.0|       111|   5000|     21|        27|  13495.0|            0.0|              0.0|              1.0|           4.0|              1.0|                  0.0|              3.0|                  0.0|              0.0|[3.0,88.6,168.8,6...|\n",
      "|        3|     88.6|    168.8|    64.1|     48.8|      2548|       130|     3.47|  2.68|             9.0|       111|   5000|     21|        27|  16500.0|            0.0|              0.0|              1.0|           4.0|              1.0|                  0.0|              3.0|                  0.0|              0.0|[3.0,88.6,168.8,6...|\n",
      "|        1|     94.5|    171.2|    65.5|     52.4|      2823|       152|     2.68|  3.47|             9.0|       154|   5000|     19|        26|  16500.0|            0.0|              0.0|              1.0|           1.0|              1.0|                  0.0|              2.0|                  1.0|              0.0|[1.0,94.5,171.2,6...|\n",
      "|        2|     99.8|    176.6|    66.2|     54.3|      2337|       109|     3.19|   3.4|            10.0|       102|   5500|     24|        30|  13950.0|            0.0|              0.0|              0.0|           0.0|              0.0|                  0.0|              0.0|                  0.0|              0.0|(23,[0,1,2,3,4,5,...|\n",
      "|        2|     99.4|    176.6|    66.4|     54.3|      2824|       136|     3.19|   3.4|             8.0|       115|   5500|     18|        22|  17450.0|            0.0|              0.0|              0.0|           0.0|              2.0|                  0.0|              0.0|                  2.0|              0.0|[2.0,99.4,176.6,6...|\n",
      "|        2|     99.8|    177.3|    66.3|     53.1|      2507|       136|     3.19|   3.4|             8.5|       110|   5500|     19|        25|  15250.0|            0.0|              0.0|              1.0|           0.0|              0.0|                  0.0|              0.0|                  2.0|              0.0|[2.0,99.8,177.3,6...|\n",
      "|        1|    105.8|    192.7|    71.4|     55.7|      2844|       136|     3.19|   3.4|             8.5|       110|   5500|     19|        25|  17710.0|            0.0|              0.0|              0.0|           0.0|              0.0|                  0.0|              0.0|                  2.0|              0.0|[1.0,105.8,192.7,...|\n",
      "|        1|    105.8|    192.7|    71.4|     55.7|      2954|       136|     3.19|   3.4|             8.5|       110|   5500|     19|        25|  18920.0|            0.0|              0.0|              0.0|           2.0|              0.0|                  0.0|              0.0|                  2.0|              0.0|[1.0,105.8,192.7,...|\n",
      "|        1|    105.8|    192.7|    71.4|     55.9|      3086|       131|     3.13|   3.4|             8.3|       140|   5500|     17|        20|  23875.0|            0.0|              1.0|              0.0|           0.0|              0.0|                  0.0|              0.0|                  2.0|              0.0|[1.0,105.8,192.7,...|\n",
      "|        0|     99.5|    178.2|    67.9|     52.0|      3053|       131|     3.13|   3.4|             7.0|       160|   5500|     16|        22|17859.167|            0.0|              1.0|              1.0|           1.0|              2.0|                  0.0|              0.0|                  2.0|              0.0|[0.0,99.5,178.2,6...|\n",
      "|        2|    101.2|    176.8|    64.8|     54.3|      2395|       108|      3.5|   2.8|             8.8|       101|   5800|     23|        29|  16430.0|            0.0|              0.0|              1.0|           0.0|              1.0|                  0.0|              0.0|                  0.0|              0.0|[2.0,101.2,176.8,...|\n",
      "|        0|    101.2|    176.8|    64.8|     54.3|      2395|       108|      3.5|   2.8|             8.8|       101|   5800|     23|        29|  16925.0|            0.0|              0.0|              0.0|           0.0|              1.0|                  0.0|              0.0|                  0.0|              0.0|(23,[1,2,3,4,5,6,...|\n",
      "|        0|    101.2|    176.8|    64.8|     54.3|      2710|       164|     3.31|  3.19|             9.0|       121|   4250|     21|        28|  20970.0|            0.0|              0.0|              1.0|           0.0|              1.0|                  0.0|              0.0|                  1.0|              0.0|[0.0,101.2,176.8,...|\n",
      "|        0|    101.2|    176.8|    64.8|     54.3|      2765|       164|     3.31|  3.19|             9.0|       121|   4250|     21|        28|  21105.0|            0.0|              0.0|              0.0|           0.0|              1.0|                  0.0|              0.0|                  1.0|              0.0|[0.0,101.2,176.8,...|\n",
      "|        1|    103.5|    189.0|    66.9|     55.7|      3055|       164|     3.31|  3.19|             9.0|       121|   4250|     20|        25|  24565.0|            0.0|              0.0|              0.0|           0.0|              1.0|                  0.0|              0.0|                  1.0|              0.0|[1.0,103.5,189.0,...|\n",
      "|        0|    103.5|    189.0|    66.9|     55.7|      3230|       209|     3.62|  3.39|             8.0|       182|   5400|     16|        22|  30760.0|            0.0|              0.0|              0.0|           0.0|              1.0|                  0.0|              0.0|                  1.0|              0.0|[0.0,103.5,189.0,...|\n",
      "|        0|    103.5|    193.8|    67.9|     53.7|      3380|       209|     3.62|  3.39|             8.0|       182|   5400|     16|        22|  41315.0|            0.0|              0.0|              1.0|           0.0|              1.0|                  0.0|              0.0|                  1.0|              0.0|[0.0,103.5,193.8,...|\n",
      "|        0|    110.0|    197.0|    70.9|     56.3|      3505|       209|     3.62|  3.39|             8.0|       182|   5400|     15|        20|  36880.0|            0.0|              0.0|              0.0|           0.0|              1.0|                  0.0|              0.0|                  1.0|              0.0|[0.0,110.0,197.0,...|\n",
      "|        2|     88.4|    141.1|    60.3|     53.2|      1488|        61|     2.91|  3.03|             9.5|        48|   5100|     47|        53|   5151.0|            0.0|              0.0|              1.0|           1.0|              0.0|                  0.0|              4.0|                  5.0|              1.0|[2.0,88.4,141.1,6...|\n",
      "|        1|     94.5|    155.9|    63.6|     52.0|      1874|        90|     3.03|  3.11|             9.6|        70|   5400|     38|        43|   6295.0|            0.0|              0.0|              1.0|           1.0|              0.0|                  0.0|              0.0|                  0.0|              1.0|[1.0,94.5,155.9,6...|\n",
      "+---------+---------+---------+--------+---------+----------+----------+---------+------+----------------+----------+-------+-------+----------+---------+---------------+-----------------+-----------------+--------------+-----------------+---------------------+-----------------+---------------------+-----------------+--------------------+\n",
      "only showing top 20 rows\n",
      "\n"
     ]
    }
   ],
   "source": [
    "feature_vector.show()"
   ]
  },
  {
   "cell_type": "code",
   "execution_count": 68,
   "id": "7973ddea",
   "metadata": {},
   "outputs": [
    {
     "name": "stdout",
     "output_type": "stream",
     "text": [
      "+--------------------+---------+\n",
      "|             feature|    price|\n",
      "+--------------------+---------+\n",
      "|[3.0,88.6,168.8,6...|  13495.0|\n",
      "|[3.0,88.6,168.8,6...|  16500.0|\n",
      "|[1.0,94.5,171.2,6...|  16500.0|\n",
      "|(23,[0,1,2,3,4,5,...|  13950.0|\n",
      "|[2.0,99.4,176.6,6...|  17450.0|\n",
      "|[2.0,99.8,177.3,6...|  15250.0|\n",
      "|[1.0,105.8,192.7,...|  17710.0|\n",
      "|[1.0,105.8,192.7,...|  18920.0|\n",
      "|[1.0,105.8,192.7,...|  23875.0|\n",
      "|[0.0,99.5,178.2,6...|17859.167|\n",
      "|[2.0,101.2,176.8,...|  16430.0|\n",
      "|(23,[1,2,3,4,5,6,...|  16925.0|\n",
      "|[0.0,101.2,176.8,...|  20970.0|\n",
      "|[0.0,101.2,176.8,...|  21105.0|\n",
      "|[1.0,103.5,189.0,...|  24565.0|\n",
      "|[0.0,103.5,189.0,...|  30760.0|\n",
      "|[0.0,103.5,193.8,...|  41315.0|\n",
      "|[0.0,110.0,197.0,...|  36880.0|\n",
      "|[2.0,88.4,141.1,6...|   5151.0|\n",
      "|[1.0,94.5,155.9,6...|   6295.0|\n",
      "+--------------------+---------+\n",
      "only showing top 20 rows\n",
      "\n"
     ]
    }
   ],
   "source": [
    "df2=feature_vector.select('feature','price')\n",
    "df2.show()"
   ]
  },
  {
   "cell_type": "code",
   "execution_count": 57,
   "id": "701589fa",
   "metadata": {},
   "outputs": [],
   "source": [
    "#Applying Linear  Regression"
   ]
  },
  {
   "cell_type": "code",
   "execution_count": null,
   "id": "7172584f",
   "metadata": {},
   "outputs": [],
   "source": [
    "#REference : https://www.datatechnotes.com/2021/05/mllib-linear-regression-example-with.html"
   ]
  },
  {
   "cell_type": "code",
   "execution_count": 69,
   "id": "931e6eca",
   "metadata": {},
   "outputs": [],
   "source": [
    "(trainingData, testData) = df2.randomSplit([0.8, 0.2],seed = 11)"
   ]
  },
  {
   "cell_type": "code",
   "execution_count": 70,
   "id": "2b725651",
   "metadata": {},
   "outputs": [],
   "source": [
    "from pyspark.ml.regression import LinearRegression"
   ]
  },
  {
   "cell_type": "code",
   "execution_count": 72,
   "id": "e89a2903",
   "metadata": {},
   "outputs": [
    {
     "name": "stdout",
     "output_type": "stream",
     "text": [
      "Coefficients:  [210.38160434642472,194.54681300924776,23.40959607672031,173.2545143971136,-59.68458400856881,3.7569979732981125,95.39412863749402,-1835.0262641134607,-3573.156753796841,-280.7375512224478,22.562400000487877,2.126350015402318,-146.96070964351188,249.0553871049187,5506.513565410933,739.3581737052903,315.77566483173626,-48.49166222525575,770.0717765973582,9961.184313863043,-931.8526851565122,2128.723124387396,-263.80099046783823]\n",
      "\n",
      "Intercept:  -37700.672537408704\n"
     ]
    }
   ],
   "source": [
    "lr = LinearRegression(featuresCol = 'feature', labelCol='price')\n",
    "lr_model = lr.fit(trainingData)\n",
    "print(\"Coefficients: \", lr_model.coefficients)\n",
    "print('')\n",
    "print(\"Intercept: \", lr_model.intercept)"
   ]
  },
  {
   "cell_type": "code",
   "execution_count": 73,
   "id": "06bf8445",
   "metadata": {},
   "outputs": [
    {
     "name": "stdout",
     "output_type": "stream",
     "text": [
      "MSE:  6118467.1828925\n",
      "MAE:  1770.84199139799\n",
      "R-squared:  0.9110055801607931\n"
     ]
    }
   ],
   "source": [
    "print(\"MSE: \", lr_model.summary.meanSquaredError)\n",
    "print(\"MAE: \", lr_model.summary.meanAbsoluteError)\n",
    "print(\"R-squared: \", lr_model.summary.r2) "
   ]
  },
  {
   "cell_type": "code",
   "execution_count": null,
   "id": "336a75ab",
   "metadata": {},
   "outputs": [],
   "source": [
    "lr_model = lr.fit(trainingData)\n",
    "results=lr_model.evaluate(trainingData)\n",
    "print(\"MSE: \", results.meanSquaredError)\n",
    "print(\"MAE: \", results.meanAbsoluteError)\n",
    "print(\"R-squared: \", results.r2) "
   ]
  },
  {
   "cell_type": "code",
   "execution_count": 74,
   "id": "48a381a0",
   "metadata": {},
   "outputs": [
    {
     "name": "stdout",
     "output_type": "stream",
     "text": [
      "+--------------------+-------+------------------+\n",
      "|             feature|  price|        prediction|\n",
      "+--------------------+-------+------------------+\n",
      "|[3.0,88.6,168.8,6...|13495.0|10686.514523867008|\n",
      "|[3.0,88.6,168.8,6...|16500.0|10686.514523867008|\n",
      "|[1.0,94.5,171.2,6...|16500.0|  17477.2745744927|\n",
      "+--------------------+-------+------------------+\n",
      "only showing top 3 rows\n",
      "\n"
     ]
    }
   ],
   "source": [
    "mdata = lr_model.transform(df2)\n",
    "mdata.show(3) "
   ]
  },
  {
   "cell_type": "code",
   "execution_count": 75,
   "id": "4789d2c2",
   "metadata": {},
   "outputs": [],
   "source": [
    "x_ax = range(0, mdata.count())\n",
    "y_pred = mdata.select(\"prediction\").collect()\n",
    "y_orig = mdata.select(\"price\").collect()"
   ]
  },
  {
   "cell_type": "code",
   "execution_count": 77,
   "id": "4b467f1e",
   "metadata": {},
   "outputs": [],
   "source": [
    "import matplotlib.pyplot as plt"
   ]
  },
  {
   "cell_type": "code",
   "execution_count": 78,
   "id": "92069c3a",
   "metadata": {},
   "outputs": [
    {
     "data": {
      "image/png": "[encoded data removed]",
      "text/plain": [
       "<Figure size 432x288 with 1 Axes>"
      ]
     },
     "metadata": {
      "needs_background": "light"
     },
     "output_type": "display_data"
    }
   ],
   "source": [
    "plt.plot(x_ax, y_orig, label=\"original\")\n",
    "plt.plot(x_ax, y_pred, label=\"predicted\")\n",
    "plt.title(\"test and predicted data\")\n",
    "plt.xlabel('X-axis')\n",
    "plt.ylabel('Y-axis')\n",
    "plt.legend(loc='best',fancybox=True, shadow=True)\n",
    "plt.grid(True)\n",
    "plt.show()  "
   ]
  },
  {
   "cell_type": "code",
   "execution_count": null,
   "id": "94278540",
   "metadata": {},
   "outputs": [],
   "source": [
    "# Stop session \n",
    "spark.stop() "
   ]
  },
  {
   "cell_type": "code",
   "execution_count": null,
   "id": "13ef2295",
   "metadata": {},
   "outputs": [],
   "source": [
    "#----------------------------------------------#----------------------------------------------------------#"
   ]
  }
 ],
 "metadata": {
  "kernelspec": {
   "display_name": "Python 3",
   "language": "python",
   "name": "python3"
  },
  "language_info": {
   "codemirror_mode": {
    "name": "ipython",
    "version": 3
   },
   "file_extension": ".py",
   "mimetype": "text/x-python",
   "name": "python",
   "nbconvert_exporter": "python",
   "pygments_lexer": "ipython3",
   "version": "3.6.13"
  }
 },
 "nbformat": 4,
 "nbformat_minor": 5
}
